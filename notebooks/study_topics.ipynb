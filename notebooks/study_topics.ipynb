{
 "cells": [
  {
   "cell_type": "code",
   "execution_count": 17,
   "metadata": {
    "collapsed": true
   },
   "outputs": [],
   "source": [
    "import requests\n",
    "import json\n",
    "import csv\n",
    "import multiprocessing as mp\n",
    "from itertools import repeat\n",
    "import os\n",
    "import time\n",
    "import random\n",
    "import gensim\n",
    "from gensim.models.doc2vec import Doc2Vec, TaggedDocument\n",
    "import folium\n",
    "import sqlalchemy\n",
    "import tables\n",
    "import pickle\n",
    "from pathlib import Path\n",
    "from collections import OrderedDict\n",
    "import numpy as np\n",
    "import pandas as pd\n",
    "import shapely\n",
    "import geopandas as gpd\n",
    "from datetime import datetime, timedelta, time, date\n",
    "from geopy.distance import vincenty, great_circle\n",
    "from sqlalchemy.orm import sessionmaker #Run pip install sqlalchemy\n",
    "from sklearn.cluster import DBSCAN\n",
    "from shapely.geometry import Point\n",
    "from sklearn.preprocessing import MinMaxScaler, StandardScaler, LabelBinarizer, LabelEncoder\n",
    "\n",
    "\n",
    "\n",
    "%matplotlib inline\n",
    "import matplotlib.pyplot as plt\n",
    "import seaborn as sns\n",
    "sns.set(style=\"white\", palette=\"muted\", color_codes=True)\n",
    "\n",
    "# os.chdir('src')\n",
    "\n",
    "import settings as s\n",
    "import utility_io\n",
    "import utility_database\n",
    "import prediction_gps_grid_mode_topic\n",
    "np.random.seed(1)\n",
    "random.seed(1)\n",
    "\n",
    "pd.set_option('display.width',200)\n",
    "\n"
   ]
  },
  {
   "cell_type": "code",
   "execution_count": null,
   "metadata": {},
   "outputs": [],
   "source": [
    "engine, conn, metadata = utility_database.establish_db_connection_mysql_twitter_remote()"
   ]
  },
  {
   "cell_type": "code",
   "execution_count": 6,
   "metadata": {},
   "outputs": [],
   "source": [
    "# Check model file and topic feature file\n",
    "\n",
    "EXPERIMENT_PARAMETERS = s.EXPERIMENT_PARAMETERS\n",
    "LSI_MODEL_FILE = s.LSI_MODEL_FILE\n",
    "LDA_MODEL_FILE = s.LDA_MODEL_FILE\n",
    "DOC2VEC_MODEL_FILE = s.DOC2VEC_MODEL_FILE\n",
    "STOPLIST_FILE = s.STOPLIST_FILE\n",
    "DICT_FILE = s.DICT_FILE\n",
    "MM_CORPUS_FILE = s.MM_CORPUS_FILE\n",
    "TFIDF_FILE = s.TFIDF_FILE\n",
    "LSI_TOPIC_FILE = s.LSI_TOPIC_FILE\n",
    "LDA_TOPIC_FILE = s.LDA_TOPIC_FILE\n",
    "DOC2VEC_TOPIC_FILE = s.DOC2VEC_TOPIC_FILE\n",
    "\n",
    "dictionary = gensim.corpora.Dictionary.load(DICT_FILE)\n",
    "lsi = gensim.models.LsiModel.load(LSI_MODEL_FILE)\n",
    "lda = gensim.models.LdaModel.load(LDA_MODEL_FILE)\n",
    "doc2vec = Doc2Vec.load(DOC2VEC_MODEL_FILE)\n",
    "tfidf = gensim.models.TfidfModel.load(TFIDF_FILE)\n"
   ]
  },
  {
   "cell_type": "code",
   "execution_count": 11,
   "metadata": {},
   "outputs": [
    {
     "data": {
      "text/plain": [
       "[(0,\n  '0.040*\"the\" + 0.030*\"just\" + 0.029*\"i\" + 0.018*\"ousted\" + 0.018*\"on\" + 0.014*\"time\" + 0.012*\"q\" + 0.012*\"of\" + 0.012*\"v\" + 0.011*\"d\" + 0.009*\"mayor\" + 0.009*\"号\" + 0.008*\"amp\" + 0.008*\"宜しく\" + 0.008*\"神戸\" + 0.007*\"kt\" + 0.007*\"z\" + 0.007*\"a\" + 0.007*\"u\" + 0.007*\"as\"'),\n (1,\n  '0.062*\"o\" + 0.028*\"ﾟ\" + 0.023*\"д\" + 0.014*\"ﾉ\" + 0.014*\"の\" + 0.009*\"ねー\" + 0.009*\"昨日\" + 0.009*\"ヽ\" + 0.009*\"ノ\" + 0.009*\"目\" + 0.008*\"いっ\" + 0.008*\"ｗ\" + 0.008*\"二\" + 0.007*\"しか\" + 0.006*\"為\" + 0.006*\"回\" + 0.006*\"て\" + 0.005*\"規制\" + 0.005*\"ら\" + 0.005*\"台風\"'),\n (2,\n  '0.044*\"一\" + 0.035*\"高温\" + 0.012*\"中\" + 0.011*\"てしょ\" + 0.011*\"やん\" + 0.010*\"海\" + 0.010*\"郡\" + 0.007*\"rt\" + 0.007*\"にて\" + 0.007*\"ねぇ\" + 0.007*\"本\" + 0.006*\"生\" + 0.006*\"わかり\" + 0.006*\"やっは\" + 0.005*\"マシ\" + 0.005*\"こ飯\" + 0.005*\"読む\" + 0.005*\"ぅ\" + 0.005*\"ㅋ\" + 0.004*\"わかち\"'),\n (3,\n  '0.065*\"て\" + 0.058*\"た\" + 0.040*\"か\" + 0.039*\"の\" + 0.034*\"は\" + 0.033*\"に\" + 0.019*\"ー\" + 0.019*\"し\" + 0.018*\"な\" + 0.017*\"と\" + 0.016*\"も\" + 0.015*\"ん\" + 0.013*\"ない\" + 0.013*\"笑\" + 0.012*\"よ\" + 0.012*\"てす\" + 0.012*\"から\" + 0.011*\"ね\" + 0.009*\"_\" + 0.007*\"お\"'),\n (4,\n  '0.045*\"に\" + 0.043*\"タッチ\" + 0.040*\"駅\" + 0.033*\"at\" + 0.031*\"店\" + 0.010*\"テスト\" + 0.009*\"pic\" + 0.009*\"for\" + 0.009*\"道\" + 0.008*\"with\" + 0.006*\"ランチ\" + 0.006*\"横浜\" + 0.006*\"岩手\" + 0.006*\"カレー\" + 0.005*\"いこ\" + 0.005*\"by\" + 0.005*\"was\" + 0.005*\"神奈川\" + 0.004*\"負け\" + 0.004*\"自動車\"'),\n (5,\n  '0.046*\"t\" + 0.028*\"i\" + 0.020*\"to\" + 0.018*\"a\" + 0.015*\"you\" + 0.012*\"my\" + 0.011*\"s\" + 0.010*\"region\" + 0.010*\"is\" + 0.010*\"and\" + 0.010*\"it\" + 0.009*\"km\" + 0.008*\"utc\" + 0.008*\"m\" + 0.008*\"depth\" + 0.008*\"earthquakes\" + 0.007*\"me\" + 0.007*\"jp\" + 0.007*\"金\" + 0.007*\"mw\"'),\n (6,\n  '0.060*\"市\" + 0.049*\"県\" + 0.027*\"今\" + 0.026*\"本日\" + 0.026*\"分\" + 0.025*\"月\" + 0.024*\"最高\" + 0.023*\"_\" + 0.022*\"確認\" + 0.022*\"気象庁\" + 0.021*\"日時\" + 0.021*\"最低\" + 0.021*\"迄\" + 0.021*\"時点\" + 0.020*\"日\" + 0.019*\"テリヘル\" + 0.019*\"時\" + 0.017*\"news\" + 0.016*\"町\" + 0.015*\"発生\"'),\n (7,\n  '0.050*\"なう\" + 0.013*\"in\" + 0.010*\"e\" + 0.010*\"japan\" + 0.010*\"選手\" + 0.009*\"n\" + 0.006*\"ｔ\" + 0.006*\"投稿\" + 0.005*\"へ\" + 0.005*\"instagram\" + 0.005*\"写真\" + 0.005*\"つき\" + 0.004*\"p\" + 0.004*\"ふり\" + 0.004*\"ㅋㅋ\" + 0.003*\"色\" + 0.003*\"乗り換え\" + 0.003*\"your\" + 0.003*\"五輪\" + 0.003*\"結構\"'),\n (8,\n  '0.059*\"ます\" + 0.034*\"情報\" + 0.033*\"こさい\" + 0.028*\"注意\" + 0.023*\"おはよう\" + 0.016*\"ありかとう\" + 0.016*\"jst\" + 0.014*\"東京\" + 0.009*\"お願い\" + 0.009*\"おめてとう\" + 0.008*\"てす\" + 0.008*\"m\" + 0.007*\"よろしく\" + 0.007*\"h\" + 0.007*\"オリンヒック\" + 0.006*\"到着\" + 0.006*\"金メタル\" + 0.006*\"周辺\" + 0.006*\"フォロー\" + 0.006*\"都\"'),\n (9,\n  '0.072*\"の\" + 0.063*\"を\" + 0.020*\"さ\" + 0.017*\"km\" + 0.013*\"に\" + 0.012*\"付近\" + 0.011*\"地震\" + 0.010*\"前\" + 0.009*\"jp\" + 0.009*\"mw\" + 0.009*\"地方\" + 0.008*\"暑い\" + 0.008*\"kg\" + 0.008*\"震源\" + 0.008*\"地\" + 0.008*\"深\" + 0.007*\"分\" + 0.007*\"みたい\" + 0.007*\"時刻\" + 0.007*\"てす\"')]"
      ]
     },
     "execution_count": 11,
     "metadata": {},
     "output_type": "execute_result"
    }
   ],
   "source": [
    "lda.show_topics(num_topics=50, num_words=20, formatted=True)\n",
    "\n",
    "# lda.print_topics(num_topics=20, num_words=10)"
   ]
  },
  {
   "cell_type": "code",
   "execution_count": 18,
   "metadata": {},
   "outputs": [
    {
     "name": "stderr",
     "output_type": "stream",
     "text": [
      "/usr/local/lib/python3.6/site-packages/sklearn/preprocessing/label.py:252: DataConversionWarning: A column-vector y was passed when a 1d array was expected. Please change the shape of y to (n_samples, ), for example using ravel().\n  y = column_or_1d(y, warn=True)\n"
     ]
    }
   ],
   "source": [
    "FIGURE_DIR = s.FIGURE_DIR\n",
    "\n",
    "X_GRID_FILE = s.X_GRID_FILE\n",
    "Y_GRID_FILE = s.Y_GRID_FILE\n",
    "X_MODE_FILE = s.X_MODE_FILE\n",
    "Y_MODE_FILE = s.Y_MODE_FILE\n",
    "X_TOPIC_FILE = s.X_TOPIC_FILE\n",
    "Y_TOPIC_FILE = s.Y_TOPIC_FILE\n",
    "\n",
    "# X_GRID_FILE = s.X_GRID_EVALUATION_FILE\n",
    "# Y_GRID_FILE = s.Y_GRID_EVALUATION_FILE\n",
    "# X_MODE_FILE = s.X_MODE_EVALUATION_FILE\n",
    "# Y_MODE_FILE = s.Y_MODE_EVALUATION_FILE\n",
    "# X_TOPIC_FILE = s.X_TOPIC_EVALUATION_FILE\n",
    "# Y_TOPIC_FILE = s.Y_TOPIC_EVALUATION_FILE\n",
    "\n",
    "LE_GRID_CLASSES_FILE = s.LE_GRID_CLASSES_FILE\n",
    "LB_MODE_CLASSES_FILE = s.LB_MODE_CLASSES_FILE\n",
    "X_FILE = s.X_FILE\n",
    "Y_FILE = s.Y_FILE\n",
    "Y_FILE_PREDICTED_LSTM = s.Y_FILE_PREDICTED_LSTM\n",
    "Y_FILE_PREDICTED_VELOCITY = s.Y_FILE_PREDICTED_VELOCITY\n",
    "MODEL_FILE_LSTM_GRID = s.MODEL_FILE_LSTM_GRID\n",
    "MODEL_WEIGHT_FILE_LSTM_GRID = s.MODEL_WEIGHT_FILE_LSTM_GRID\n",
    "GEOJSON_FILE_OBSERVATION_GRID = s.GEOJSON_FILE_OBSERVATION_GRID\n",
    "GEOJSON_FILE_TRUE_GRID = s.GEOJSON_FILE_TRUE_GRID\n",
    "GEOJSON_FILE_PREDICTED_LSTM_GRID = s.GEOJSON_FILE_PREDICTED_LSTM_GRID\n",
    "\n",
    "le_grid = LabelEncoder()\n",
    "le_grid.classes_ = np.load(LE_GRID_CLASSES_FILE)\n",
    "lb_mode = LabelBinarizer()\n",
    "lb_mode.classes_ = np.load(LB_MODE_CLASSES_FILE)\n",
    "\n",
    "X_train, y_train, X_test, y_test, X_mode_train, X_mode_test, y_mode_train, y_mode_test, X_topic_train, X_topic_test, y_topic_train, y_topic_test = \\\n",
    "    prediction_gps_grid_mode_topic.load_grid_mode_topic_dataset(X_GRID_FILE, Y_GRID_FILE, X_MODE_FILE, Y_MODE_FILE, X_TOPIC_FILE, Y_TOPIC_FILE, le_grid, lb_mode, EXPERIMENT_PARAMETERS)\n"
   ]
  },
  {
   "cell_type": "code",
   "execution_count": 22,
   "metadata": {},
   "outputs": [
    {
     "data": {
      "text/plain": [
       "array([[[-1.23133099, -1.07775474, -1.64188182, ...,  0.85134816,\n          1.57933021, -2.11856055],\n        [-1.62418473, -0.81821078, -1.61588955, ...,  0.21380956,\n          0.20901272, -2.50474024],\n        [-1.55443156, -0.18334562, -1.7333405 , ..., -0.32025668,\n          0.79164249, -2.79221916],\n        ...,\n        [-0.73518175, -0.99641067, -1.91284704, ...,  1.57473397,\n         -0.48859885, -2.20515037],\n        [ 0.36108688, -1.13614345, -2.2031548 , ...,  1.39662278,\n         -0.48712844, -1.86307263],\n        [ 0.91818339, -1.0984956 , -2.40233541, ...,  0.90901917,\n         -0.13185288, -1.74400342]],\n\n       [[-0.92359304, -1.67816079, -3.0649035 , ..., -0.72474325,\n          2.3668282 , -0.33827776],\n        [-0.57502818, -1.70732784, -3.02119327, ..., -0.12723143,\n          1.47198987, -0.40845656],\n        [-0.04099904, -1.68510449, -2.52037954, ...,  0.34432566,\n          1.99489498, -0.12592867],\n        ...,\n        [ 0.31750965, -1.28177428, -1.63847899, ..., -0.3612285 ,\n          1.89983082, -0.29631734],\n        [ 0.28207666, -1.29329252, -1.28555655, ..., -0.37966582,\n          1.81517994, -0.28647083],\n        [ 0.83465731, -1.43580651, -1.41517484, ..., -0.63962227,\n          2.10803819, -0.51615334]],\n\n       [[-1.48900795, -1.0297246 , -1.00793517, ..., -0.82813883,\n          1.78446162, -0.42645583],\n        [-1.9854418 , -1.0726999 , -1.56026077, ..., -0.6083501 ,\n          1.9496901 , -0.56865561],\n        [-2.25394511, -1.13709176, -2.08807659, ..., -0.19316202,\n          1.45385814, -0.39144146],\n        ...,\n        [-0.04824211,  0.48487356, -1.32685339, ..., -1.09035838,\n          2.07980871, -0.21388824],\n        [-0.4702867 ,  0.42601639, -1.23745716, ..., -1.20385778,\n          2.01486492, -0.00980648],\n        [-0.73097229, -0.11099545, -1.6783185 , ..., -0.95706046,\n          2.03281307,  0.1316071 ]],\n\n       ...,\n\n       [[ 0.04332653, -1.55549657, -2.3197403 , ...,  0.57640362,\n          2.3353138 , -0.90397531],\n        [-0.01250684, -1.56523776, -2.02939177, ...,  0.56413192,\n          1.86961019, -0.75070864],\n        [-0.06237409, -1.36964595, -2.50959039, ...,  0.62466443,\n          1.53184211, -0.60545808],\n        ...,\n        [ 0.63111705, -2.82432461, -2.74915266, ...,  1.99451494,\n          1.40569377, -0.63450897],\n        [ 1.06780565, -2.45419574, -2.26858497, ...,  2.4893167 ,\n          1.82344043, -0.13927266],\n        [ 1.56184745, -1.93198276, -1.87833548, ...,  1.43653738,\n          1.99051952, -0.47749457]],\n\n       [[ 0.13263348, -1.83407152, -1.71748292, ...,  1.47002923,\n          3.17094326,  0.25675672],\n        [ 1.26076853, -1.99292672, -1.98897648, ...,  1.88997734,\n          2.82753253,  0.6189118 ],\n        [ 0.06723684, -2.23780537, -2.3386116 , ...,  2.21992636,\n          2.0413506 ,  0.92323029],\n        ...,\n        [ 2.3181951 , -1.69876218, -0.27303436, ...,  0.48136777,\n          3.87506175,  0.25810102],\n        [ 1.41433787, -2.05792737, -0.63279247, ...,  0.7712127 ,\n          4.13926077,  0.52794605],\n        [ 1.65745115, -1.88609481, -0.7280404 , ...,  0.82826233,\n          3.9740231 ,  0.36632052]],\n\n       [[ 0.99612105, -2.01164341, -1.66595149, ...,  1.12851393,\n          1.73224223, -0.59003115],\n        [ 0.74193501, -1.70932603, -2.0174768 , ...,  0.98064202,\n          1.21685708, -0.46605927],\n        [ 0.68150669, -1.8306247 , -2.15096378, ...,  1.09509075,\n          1.27098978, -0.63418871],\n        ...,\n        [-0.73332059, -1.69616067, -2.20787477, ...,  0.42039472,\n          1.71938109, -0.50778836],\n        [-1.50322914, -1.98054552, -2.40141129, ...,  0.10836677,\n          1.50527966, -0.84934735],\n        [-0.63041598, -2.13703156, -1.83735847, ...,  1.02087235,\n          1.52971768, -0.69575834]]])"
      ]
     },
     "execution_count": 22,
     "metadata": {},
     "output_type": "execute_result"
    }
   ],
   "source": [
    "# X_topic_test.shape\n",
    "X_topic_test"
   ]
  }
 ],
 "metadata": {
  "kernelspec": {
   "display_name": "Python 2",
   "language": "python",
   "name": "python2"
  },
  "language_info": {
   "codemirror_mode": {
    "name": "ipython",
    "version": 2
   },
   "file_extension": ".py",
   "mimetype": "text/x-python",
   "name": "python",
   "nbconvert_exporter": "python",
   "pygments_lexer": "ipython2",
   "version": "2.7.6"
  }
 },
 "nbformat": 4,
 "nbformat_minor": 0
}
