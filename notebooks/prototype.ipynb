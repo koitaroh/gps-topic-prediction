{
 "cells": [
  {
   "cell_type": "code",
   "execution_count": 1,
   "metadata": {},
   "outputs": [
    {
     "name": "stderr",
     "output_type": "stream",
     "text": [
      "2017-07-29 22:59:56,435 - __main__ - INFO - Initializing __main__\n",
      "2017-07-29 22:59:56,455 - settings - INFO - Initializing settings\n",
      "2017-07-29 22:59:56,456 - settings - INFO - EXPERIMENT_NAME: Experiment_20120725_20120725_5mins_1000users_2h_2layers\n",
      "2017-07-29 22:59:56,457 - settings - INFO - EXPERIMENT_DIR: /Users/koitaroh/Documents/Data/Experiments/Experiment_20120725_20120725_5mins_1000users_2h_2layers/\n",
      "2017-07-29 22:59:56,458 - settings - INFO - EXPERIMENT PARAMETERS: {'EXPERIMENT_NAME': 'Experiment_20120725_20120725_5mins_1000users_2h_2layers', 'TIMESTART': '2012-07-25 00:00:00', 'TIMEEND': '2012-07-25 23:59:59', 'AOI': [138.72, 34.9, 140.87, 36.28], 'UNIT_TEMPORAL': 5, 'UNIT_SPATIAL_METER': 1000, 'MOVILITY_CHECK_WINDOW': 30, 'PREDICTION_INPUT_LENGTH': 12, 'RECALL_LENGTH': 12, 'PREDICTION_OUTPUT_LENGTH': 12, 'SAMPLE_USER_SIZE': 50, 'SAMPLE_SIZE': 100, 'VISUALIZATION_SAMPLE_SIZE': 10}\n",
      "2017-07-29 22:59:56,461 - __main__ - INFO - Defining temporal indices\n",
      "2017-07-29 22:59:56,465 - __main__ - DEBUG - X distance: 196504.27038758664 meters, Y distance: 153112.98228840373 meters\n",
      "2017-07-29 22:59:56,466 - __main__ - DEBUG - X unit in degree: 0.0109 degrees, Y unit in degree: 0.009 degrees\n",
      "2017-07-29 22:59:56,468 - __main__ - INFO - X size: 198\n",
      "2017-07-29 22:59:56,470 - __main__ - INFO - Y size: 154\n",
      "2017-07-29 22:59:56,471 - __main__ - INFO - Size of spatial index: 30492\n",
      "2017-07-29 22:59:56,480 - __main__ - INFO - Loading CSV /Users/koitaroh/Documents/Data/GPS/gps_trip_result_kanto_201207/000000_0 to dataframe\n",
      "2017-07-29 23:02:31,099 - __main__ - INFO - Current number of user: 6964\n"
     ]
    }
   ],
   "source": [
    "import requests\n",
    "import json\n",
    "import csv\n",
    "import os\n",
    "import time\n",
    "import sqlalchemy\n",
    "import pandas\n",
    "import pickle\n",
    "import numpy\n",
    "import numpy as np\n",
    "from datetime import datetime, timedelta\n",
    "import geopy\n",
    "from geopy.distance import vincenty\n",
    "# from sshtunnel import SSHTunnelForwarder #Run pip install sshtunnel\n",
    "from sqlalchemy.orm import sessionmaker #Run pip install sqlalchemy\n",
    "from sklearn.preprocessing import MinMaxScaler, StandardScaler\n",
    "\n",
    "# Logging ver. 2016-07-12\n",
    "from logging import handlers\n",
    "import logging\n",
    "logger = logging.getLogger(__name__)\n",
    "logger.setLevel(logging.DEBUG)\n",
    "fh = logging.handlers.RotatingFileHandler('log.log', maxBytes=1000000, backupCount=3)  # file handler\n",
    "fh.setLevel(logging.DEBUG)\n",
    "ch = logging.StreamHandler()  # console handler\n",
    "ch.setLevel(logging.DEBUG)\n",
    "formatter = logging.Formatter('%(asctime)s - %(name)s - %(levelname)s - %(message)s')\n",
    "ch.setFormatter(formatter)\n",
    "fh.setFormatter(formatter)\n",
    "logger.addHandler(fh)\n",
    "logger.addHandler(ch)\n",
    "logger.info('Initializing %s', __name__)\n",
    "\n",
    "import settings as s\n",
    "np.random.seed(7)\n",
    "\n",
    "\n",
    "# define_temporal_slices\n",
    "def define_temporal_index(EXPERIMENT_PARAMETERS):\n",
    "    logger.info(\"Defining temporal indices\")\n",
    "    temporal_indices = []\n",
    "    # temporal_indices = dict()\n",
    "    temporal_index = 0\n",
    "    timestart = datetime.strptime(EXPERIMENT_PARAMETERS[\"TIMESTART\"], '%Y-%m-%d %H:%M:%S')\n",
    "    timeend = datetime.strptime(EXPERIMENT_PARAMETERS[\"TIMEEND\"], '%Y-%m-%d %H:%M:%S')\n",
    "    unit_temporal = timedelta(minutes=EXPERIMENT_PARAMETERS[\"UNIT_TEMPORAL\"])\n",
    "    time_cursor = timestart\n",
    "\n",
    "    while (time_cursor < timeend):\n",
    "        # time_cursor_str = datetime.strftime(time_cursor, '%Y-%m-%d %H:%M:%S')\n",
    "        iso_year, iso_week_number, iso_weekday = time_cursor.isocalendar()\n",
    "        temporal_indices.append([temporal_index, iso_year, iso_week_number, iso_weekday, time_cursor])\n",
    "        # temporal_indices[temporal_index] = time_cursor\n",
    "        temporal_index += 1\n",
    "        time_cursor = time_cursor + unit_temporal\n",
    "        # logger.debug(time_cursor_str)\n",
    "    return temporal_indices\n",
    "\n",
    "\n",
    "def define_spatial_index(EXPERIMENT_PARAMETERS):\n",
    "    x1y1 = (EXPERIMENT_PARAMETERS[\"AOI\"][1], EXPERIMENT_PARAMETERS[\"AOI\"][0])\n",
    "    x2y1 = (EXPERIMENT_PARAMETERS[\"AOI\"][1], EXPERIMENT_PARAMETERS[\"AOI\"][2])\n",
    "    x1y2 = (EXPERIMENT_PARAMETERS[\"AOI\"][3], EXPERIMENT_PARAMETERS[\"AOI\"][0])\n",
    "    x2y2 = (EXPERIMENT_PARAMETERS[\"AOI\"][3], EXPERIMENT_PARAMETERS[\"AOI\"][2])\n",
    "    x_distance = geopy.distance.vincenty(x1y1, x2y1).meters\n",
    "    y_distance = geopy.distance.vincenty(x1y1, x1y2).meters\n",
    "    logger.debug(\"X distance: %s meters, Y distance: %s meters\", x_distance, y_distance)\n",
    "    x_unit_degree = round((((EXPERIMENT_PARAMETERS[\"AOI\"][2] - EXPERIMENT_PARAMETERS[\"AOI\"][0]) * EXPERIMENT_PARAMETERS[\"UNIT_SPATIAL_METER\"]) / x_distance), 4)\n",
    "    y_unit_degree = round((((EXPERIMENT_PARAMETERS[\"AOI\"][3] - EXPERIMENT_PARAMETERS[\"AOI\"][1]) * EXPERIMENT_PARAMETERS[\"UNIT_SPATIAL_METER\"]) / y_distance), 4)\n",
    "    logger.debug(\"X unit in degree: %s degrees, Y unit in degree: %s degrees\", x_unit_degree, y_unit_degree)\n",
    "    x_size = int((EXPERIMENT_PARAMETERS[\"AOI\"][2] - EXPERIMENT_PARAMETERS[\"AOI\"][0]) // x_unit_degree) + 1\n",
    "    y_size = int((EXPERIMENT_PARAMETERS[\"AOI\"][3] - EXPERIMENT_PARAMETERS[\"AOI\"][1]) // y_unit_degree) + 1\n",
    "    logger.info(\"X size: %s\", x_size)\n",
    "    logger.info(\"Y size: %s\", y_size)\n",
    "    logger.info(\"Size of spatial index: %s\", x_size * y_size)\n",
    "    # t_start = datetime.datetime.strptime(timestart, '%Y-%m-%d %H:%M:%S')\n",
    "    # t_end = datetime.datetime.strptime(timeend, '%Y-%m-%d %H:%M:%S')\n",
    "    # t_size = round((t_end - t_start) / datetime.timedelta(minutes=unit_temporal))\n",
    "    # logger.info(\"T size: %s\", t_size)\n",
    "    # logger.info(\"Spatiotemporal units: %s\", [t_size, x_size, y_size, num_topic])\n",
    "    spatial_index = [x_unit_degree, y_unit_degree, x_size, y_size]\n",
    "    return spatial_index\n",
    "\n",
    "\n",
    "def load_csv_files_to_dataframe(DATA_DIR, EXPERIMENT_PARAMETERS):\n",
    "    timestart = datetime.strptime(EXPERIMENT_PARAMETERS['TIMESTART'], '%Y-%m-%d %H:%M:%S')\n",
    "    timeend = datetime.strptime(EXPERIMENT_PARAMETERS['TIMEEND'], '%Y-%m-%d %H:%M:%S')\n",
    "    days = (timeend - timestart).days\n",
    "    prediction_days = days + 1\n",
    "    df_raw_all = pandas.DataFrame(numpy.empty(0, dtype=[('uid', 'str'), ('time_start', 'str'), ('time_end', 'str'), ('x', 'float64'), ('y', 'float64'), ('mode', 'str')]))\n",
    "    num_user_all = 0\n",
    "\n",
    "    for root, dirs, files in os.walk(DATA_DIR):\n",
    "        files.sort()\n",
    "        for fn in files:\n",
    "            if fn[0] != '.':\n",
    "                csv_file = root + fn\n",
    "                df, num_user = load_csv_to_dataframe(csv_file)\n",
    "                df_raw_all = df_raw_all.append(df)\n",
    "                num_user_all += num_user\n",
    "                logger.info(\"Current number of user: %s\" % num_user_all)\n",
    "    # df_raw_all = df_raw_all.sort_values(by=['uid', 'time_start'])\n",
    "    return df_raw_all\n",
    "\n",
    "\n",
    "def load_csv_to_dataframe(CSV_FILE):\n",
    "    logger.info(\"Loading CSV %s to dataframe\" % CSV_FILE)\n",
    "    headers = ['uid', 'time_start', 'time_end', 'x', \"y\", \"mode\"]\n",
    "    dtype = {'uid': 'str', 'time_start': 'str', \"time_end\": \"str\", \"x\": \"float64\", 'y': 'float64', 'mode': 'str'}\n",
    "    parse_dates = ['time_start', 'time_end']\n",
    "    df_csv = pandas.read_csv(filepath_or_buffer=CSV_FILE, header=None, names=headers,\n",
    "                             dtype=dtype, parse_dates=parse_dates, error_bad_lines=False, warn_bad_lines=True)\n",
    "    # df_csv = df_csv.sort_values(by=['uid', 'timestamp'])\n",
    "    # logger.info(\"Filtering dataframe with experiment parameters\")\n",
    "    # grouped = df_csv.groupby('uid')\n",
    "    # logger.info(\"Number of uid: %s\" % len(grouped))\n",
    "    # logger.info(\"Filtering with time setting\")\n",
    "    df_filtered = df_csv[(df_csv['time_end'] >= EXPERIMENT_PARAMETERS[\"TIMESTART\"]) & (df_csv['time_start'] <= EXPERIMENT_PARAMETERS[\"TIMEEND\"])]\n",
    "    grouped = df_filtered.groupby('uid')\n",
    "    num_user = len(grouped)\n",
    "    # logger.info(\"Number of uid after temporal filter: %s\" % num_user)\n",
    "    return df_filtered, num_user\n",
    "\n",
    "\n",
    "DATA_DIR = s.DATA_DIR\n",
    "DATA_DIR_PROCESSED = s.DATA_DIR_PROCESSED\n",
    "TEST_CSV_FILTERED = s.TEST_CSV_FILTERED\n",
    "GPS_FILTERED = s.GPS_FILTERED\n",
    "EXPERIMENT_PARAMETERS = s.EXPERIMENT_PARAMETERS\n",
    "X_COORDINATE_FILE = s.X_COORDINATE_FILE\n",
    "Y_COORDINATE_FILE = s.Y_COORDINATE_FILE\n",
    "X_GRID_FILE = s.X_GRID_FILE\n",
    "Y_GRID_FILE = s.Y_GRID_FILE\n",
    "\n",
    "temporal_index = define_temporal_index(EXPERIMENT_PARAMETERS)\n",
    "# print(temporal_index)\n",
    "spatial_index = define_spatial_index(EXPERIMENT_PARAMETERS)\n",
    "# print(spatial_index)\n",
    "\n",
    "df_all_users = load_csv_files_to_dataframe(DATA_DIR, EXPERIMENT_PARAMETERS)"
   ]
  },
  {
   "cell_type": "code",
   "execution_count": 7,
   "metadata": {},
   "outputs": [
    {
     "name": "stderr",
     "output_type": "stream",
     "text": [
      "2017-07-30 13:14:11,667 - __main__ - INFO - Applying slice to users\n"
     ]
    }
   ],
   "source": [
    "logger.info(\"Applying slice to users\")\n",
    "df_users_regularized = pandas.DataFrame(numpy.empty(0, dtype=[('uid', 'int32'), ('t_index', 'int32'), ('x', 'float64'), ('y', 'float64'), ('mode', 'str'), ('s_index', 'int32')]))\n",
    "# print(df_users_regularized)\n",
    "headers = ['uid', 'timestamp', 'x', 'y', \"mode\", 's_index']\n",
    "# df_users_regularized = pandas.DataFrame(columns=headers)\n",
    "# print(df_users_filtered.dtypes)\n",
    "grouped = df_all_users.groupby('uid')\n",
    "sample_user_size = EXPERIMENT_PARAMETERS['SAMPLE_USER_SIZE']\n",
    "num_user = len(grouped)\n",
    "if sample_user_size <= num_user:\n",
    "    num_user = sample_user_size\n",
    "\n"
   ]
  },
  {
   "cell_type": "code",
   "execution_count": 3,
   "metadata": {},
   "outputs": [
    {
     "data": {
      "text/plain": [
       "uid                   object\n",
       "time_start    datetime64[ns]\n",
       "time_end      datetime64[ns]\n",
       "x                    float64\n",
       "y                    float64\n",
       "mode                  object\n",
       "dtype: object"
      ]
     },
     "execution_count": 3,
     "metadata": {},
     "output_type": "execute_result"
    }
   ],
   "source": [
    "df_all_users.dtypes"
   ]
  },
  {
   "cell_type": "code",
   "execution_count": 5,
   "metadata": {},
   "outputs": [
    {
     "ename": "NameError",
     "evalue": "name 'target_row' is not defined",
     "traceback": [
      "\u001b[0;31m---------------------------------------------------------------------------\u001b[0m",
      "\u001b[0;31mNameError\u001b[0m                                 Traceback (most recent call last)",
      "\u001b[0;32m<ipython-input-5-76d93af6d4e0>\u001b[0m in \u001b[0;36m<module>\u001b[0;34m()\u001b[0m\n\u001b[0;32m----> 1\u001b[0;31m \u001b[0mlen\u001b[0m\u001b[0;34m(\u001b[0m\u001b[0mtarget_row\u001b[0m\u001b[0;34m)\u001b[0m\u001b[0;34m\u001b[0m\u001b[0m\n\u001b[0m",
      "\u001b[0;31mNameError\u001b[0m: name 'target_row' is not defined"
     ],
     "output_type": "error"
    }
   ],
   "source": [
    "len(target_row)"
   ]
  },
  {
   "cell_type": "code",
   "execution_count": 41,
   "metadata": {},
   "outputs": [
    {
     "data": {
      "text/plain": [
       "[[0, 2012, 30, 3, datetime.datetime(2012, 7, 25, 0, 0)],\n",
       " [1, 2012, 30, 3, datetime.datetime(2012, 7, 25, 0, 5)],\n",
       " [2, 2012, 30, 3, datetime.datetime(2012, 7, 25, 0, 10)],\n",
       " [3, 2012, 30, 3, datetime.datetime(2012, 7, 25, 0, 15)],\n",
       " [4, 2012, 30, 3, datetime.datetime(2012, 7, 25, 0, 20)],\n",
       " [5, 2012, 30, 3, datetime.datetime(2012, 7, 25, 0, 25)],\n",
       " [6, 2012, 30, 3, datetime.datetime(2012, 7, 25, 0, 30)],\n",
       " [7, 2012, 30, 3, datetime.datetime(2012, 7, 25, 0, 35)],\n",
       " [8, 2012, 30, 3, datetime.datetime(2012, 7, 25, 0, 40)],\n",
       " [9, 2012, 30, 3, datetime.datetime(2012, 7, 25, 0, 45)],\n",
       " [10, 2012, 30, 3, datetime.datetime(2012, 7, 25, 0, 50)],\n",
       " [11, 2012, 30, 3, datetime.datetime(2012, 7, 25, 0, 55)],\n",
       " [12, 2012, 30, 3, datetime.datetime(2012, 7, 25, 1, 0)],\n",
       " [13, 2012, 30, 3, datetime.datetime(2012, 7, 25, 1, 5)],\n",
       " [14, 2012, 30, 3, datetime.datetime(2012, 7, 25, 1, 10)],\n",
       " [15, 2012, 30, 3, datetime.datetime(2012, 7, 25, 1, 15)],\n",
       " [16, 2012, 30, 3, datetime.datetime(2012, 7, 25, 1, 20)],\n",
       " [17, 2012, 30, 3, datetime.datetime(2012, 7, 25, 1, 25)],\n",
       " [18, 2012, 30, 3, datetime.datetime(2012, 7, 25, 1, 30)],\n",
       " [19, 2012, 30, 3, datetime.datetime(2012, 7, 25, 1, 35)],\n",
       " [20, 2012, 30, 3, datetime.datetime(2012, 7, 25, 1, 40)],\n",
       " [21, 2012, 30, 3, datetime.datetime(2012, 7, 25, 1, 45)],\n",
       " [22, 2012, 30, 3, datetime.datetime(2012, 7, 25, 1, 50)],\n",
       " [23, 2012, 30, 3, datetime.datetime(2012, 7, 25, 1, 55)],\n",
       " [24, 2012, 30, 3, datetime.datetime(2012, 7, 25, 2, 0)],\n",
       " [25, 2012, 30, 3, datetime.datetime(2012, 7, 25, 2, 5)],\n",
       " [26, 2012, 30, 3, datetime.datetime(2012, 7, 25, 2, 10)],\n",
       " [27, 2012, 30, 3, datetime.datetime(2012, 7, 25, 2, 15)],\n",
       " [28, 2012, 30, 3, datetime.datetime(2012, 7, 25, 2, 20)],\n",
       " [29, 2012, 30, 3, datetime.datetime(2012, 7, 25, 2, 25)],\n",
       " [30, 2012, 30, 3, datetime.datetime(2012, 7, 25, 2, 30)],\n",
       " [31, 2012, 30, 3, datetime.datetime(2012, 7, 25, 2, 35)],\n",
       " [32, 2012, 30, 3, datetime.datetime(2012, 7, 25, 2, 40)],\n",
       " [33, 2012, 30, 3, datetime.datetime(2012, 7, 25, 2, 45)],\n",
       " [34, 2012, 30, 3, datetime.datetime(2012, 7, 25, 2, 50)],\n",
       " [35, 2012, 30, 3, datetime.datetime(2012, 7, 25, 2, 55)],\n",
       " [36, 2012, 30, 3, datetime.datetime(2012, 7, 25, 3, 0)],\n",
       " [37, 2012, 30, 3, datetime.datetime(2012, 7, 25, 3, 5)],\n",
       " [38, 2012, 30, 3, datetime.datetime(2012, 7, 25, 3, 10)],\n",
       " [39, 2012, 30, 3, datetime.datetime(2012, 7, 25, 3, 15)],\n",
       " [40, 2012, 30, 3, datetime.datetime(2012, 7, 25, 3, 20)],\n",
       " [41, 2012, 30, 3, datetime.datetime(2012, 7, 25, 3, 25)],\n",
       " [42, 2012, 30, 3, datetime.datetime(2012, 7, 25, 3, 30)],\n",
       " [43, 2012, 30, 3, datetime.datetime(2012, 7, 25, 3, 35)],\n",
       " [44, 2012, 30, 3, datetime.datetime(2012, 7, 25, 3, 40)],\n",
       " [45, 2012, 30, 3, datetime.datetime(2012, 7, 25, 3, 45)],\n",
       " [46, 2012, 30, 3, datetime.datetime(2012, 7, 25, 3, 50)],\n",
       " [47, 2012, 30, 3, datetime.datetime(2012, 7, 25, 3, 55)],\n",
       " [48, 2012, 30, 3, datetime.datetime(2012, 7, 25, 4, 0)],\n",
       " [49, 2012, 30, 3, datetime.datetime(2012, 7, 25, 4, 5)],\n",
       " [50, 2012, 30, 3, datetime.datetime(2012, 7, 25, 4, 10)],\n",
       " [51, 2012, 30, 3, datetime.datetime(2012, 7, 25, 4, 15)],\n",
       " [52, 2012, 30, 3, datetime.datetime(2012, 7, 25, 4, 20)],\n",
       " [53, 2012, 30, 3, datetime.datetime(2012, 7, 25, 4, 25)],\n",
       " [54, 2012, 30, 3, datetime.datetime(2012, 7, 25, 4, 30)],\n",
       " [55, 2012, 30, 3, datetime.datetime(2012, 7, 25, 4, 35)],\n",
       " [56, 2012, 30, 3, datetime.datetime(2012, 7, 25, 4, 40)],\n",
       " [57, 2012, 30, 3, datetime.datetime(2012, 7, 25, 4, 45)],\n",
       " [58, 2012, 30, 3, datetime.datetime(2012, 7, 25, 4, 50)],\n",
       " [59, 2012, 30, 3, datetime.datetime(2012, 7, 25, 4, 55)],\n",
       " [60, 2012, 30, 3, datetime.datetime(2012, 7, 25, 5, 0)],\n",
       " [61, 2012, 30, 3, datetime.datetime(2012, 7, 25, 5, 5)],\n",
       " [62, 2012, 30, 3, datetime.datetime(2012, 7, 25, 5, 10)],\n",
       " [63, 2012, 30, 3, datetime.datetime(2012, 7, 25, 5, 15)],\n",
       " [64, 2012, 30, 3, datetime.datetime(2012, 7, 25, 5, 20)],\n",
       " [65, 2012, 30, 3, datetime.datetime(2012, 7, 25, 5, 25)],\n",
       " [66, 2012, 30, 3, datetime.datetime(2012, 7, 25, 5, 30)],\n",
       " [67, 2012, 30, 3, datetime.datetime(2012, 7, 25, 5, 35)],\n",
       " [68, 2012, 30, 3, datetime.datetime(2012, 7, 25, 5, 40)],\n",
       " [69, 2012, 30, 3, datetime.datetime(2012, 7, 25, 5, 45)],\n",
       " [70, 2012, 30, 3, datetime.datetime(2012, 7, 25, 5, 50)],\n",
       " [71, 2012, 30, 3, datetime.datetime(2012, 7, 25, 5, 55)],\n",
       " [72, 2012, 30, 3, datetime.datetime(2012, 7, 25, 6, 0)],\n",
       " [73, 2012, 30, 3, datetime.datetime(2012, 7, 25, 6, 5)],\n",
       " [74, 2012, 30, 3, datetime.datetime(2012, 7, 25, 6, 10)],\n",
       " [75, 2012, 30, 3, datetime.datetime(2012, 7, 25, 6, 15)],\n",
       " [76, 2012, 30, 3, datetime.datetime(2012, 7, 25, 6, 20)],\n",
       " [77, 2012, 30, 3, datetime.datetime(2012, 7, 25, 6, 25)],\n",
       " [78, 2012, 30, 3, datetime.datetime(2012, 7, 25, 6, 30)],\n",
       " [79, 2012, 30, 3, datetime.datetime(2012, 7, 25, 6, 35)],\n",
       " [80, 2012, 30, 3, datetime.datetime(2012, 7, 25, 6, 40)],\n",
       " [81, 2012, 30, 3, datetime.datetime(2012, 7, 25, 6, 45)],\n",
       " [82, 2012, 30, 3, datetime.datetime(2012, 7, 25, 6, 50)],\n",
       " [83, 2012, 30, 3, datetime.datetime(2012, 7, 25, 6, 55)],\n",
       " [84, 2012, 30, 3, datetime.datetime(2012, 7, 25, 7, 0)],\n",
       " [85, 2012, 30, 3, datetime.datetime(2012, 7, 25, 7, 5)],\n",
       " [86, 2012, 30, 3, datetime.datetime(2012, 7, 25, 7, 10)],\n",
       " [87, 2012, 30, 3, datetime.datetime(2012, 7, 25, 7, 15)],\n",
       " [88, 2012, 30, 3, datetime.datetime(2012, 7, 25, 7, 20)],\n",
       " [89, 2012, 30, 3, datetime.datetime(2012, 7, 25, 7, 25)],\n",
       " [90, 2012, 30, 3, datetime.datetime(2012, 7, 25, 7, 30)],\n",
       " [91, 2012, 30, 3, datetime.datetime(2012, 7, 25, 7, 35)],\n",
       " [92, 2012, 30, 3, datetime.datetime(2012, 7, 25, 7, 40)],\n",
       " [93, 2012, 30, 3, datetime.datetime(2012, 7, 25, 7, 45)],\n",
       " [94, 2012, 30, 3, datetime.datetime(2012, 7, 25, 7, 50)],\n",
       " [95, 2012, 30, 3, datetime.datetime(2012, 7, 25, 7, 55)],\n",
       " [96, 2012, 30, 3, datetime.datetime(2012, 7, 25, 8, 0)],\n",
       " [97, 2012, 30, 3, datetime.datetime(2012, 7, 25, 8, 5)],\n",
       " [98, 2012, 30, 3, datetime.datetime(2012, 7, 25, 8, 10)],\n",
       " [99, 2012, 30, 3, datetime.datetime(2012, 7, 25, 8, 15)],\n",
       " [100, 2012, 30, 3, datetime.datetime(2012, 7, 25, 8, 20)],\n",
       " [101, 2012, 30, 3, datetime.datetime(2012, 7, 25, 8, 25)],\n",
       " [102, 2012, 30, 3, datetime.datetime(2012, 7, 25, 8, 30)],\n",
       " [103, 2012, 30, 3, datetime.datetime(2012, 7, 25, 8, 35)],\n",
       " [104, 2012, 30, 3, datetime.datetime(2012, 7, 25, 8, 40)],\n",
       " [105, 2012, 30, 3, datetime.datetime(2012, 7, 25, 8, 45)],\n",
       " [106, 2012, 30, 3, datetime.datetime(2012, 7, 25, 8, 50)],\n",
       " [107, 2012, 30, 3, datetime.datetime(2012, 7, 25, 8, 55)],\n",
       " [108, 2012, 30, 3, datetime.datetime(2012, 7, 25, 9, 0)],\n",
       " [109, 2012, 30, 3, datetime.datetime(2012, 7, 25, 9, 5)],\n",
       " [110, 2012, 30, 3, datetime.datetime(2012, 7, 25, 9, 10)],\n",
       " [111, 2012, 30, 3, datetime.datetime(2012, 7, 25, 9, 15)],\n",
       " [112, 2012, 30, 3, datetime.datetime(2012, 7, 25, 9, 20)],\n",
       " [113, 2012, 30, 3, datetime.datetime(2012, 7, 25, 9, 25)],\n",
       " [114, 2012, 30, 3, datetime.datetime(2012, 7, 25, 9, 30)],\n",
       " [115, 2012, 30, 3, datetime.datetime(2012, 7, 25, 9, 35)],\n",
       " [116, 2012, 30, 3, datetime.datetime(2012, 7, 25, 9, 40)],\n",
       " [117, 2012, 30, 3, datetime.datetime(2012, 7, 25, 9, 45)],\n",
       " [118, 2012, 30, 3, datetime.datetime(2012, 7, 25, 9, 50)],\n",
       " [119, 2012, 30, 3, datetime.datetime(2012, 7, 25, 9, 55)],\n",
       " [120, 2012, 30, 3, datetime.datetime(2012, 7, 25, 10, 0)],\n",
       " [121, 2012, 30, 3, datetime.datetime(2012, 7, 25, 10, 5)],\n",
       " [122, 2012, 30, 3, datetime.datetime(2012, 7, 25, 10, 10)],\n",
       " [123, 2012, 30, 3, datetime.datetime(2012, 7, 25, 10, 15)],\n",
       " [124, 2012, 30, 3, datetime.datetime(2012, 7, 25, 10, 20)],\n",
       " [125, 2012, 30, 3, datetime.datetime(2012, 7, 25, 10, 25)],\n",
       " [126, 2012, 30, 3, datetime.datetime(2012, 7, 25, 10, 30)],\n",
       " [127, 2012, 30, 3, datetime.datetime(2012, 7, 25, 10, 35)],\n",
       " [128, 2012, 30, 3, datetime.datetime(2012, 7, 25, 10, 40)],\n",
       " [129, 2012, 30, 3, datetime.datetime(2012, 7, 25, 10, 45)],\n",
       " [130, 2012, 30, 3, datetime.datetime(2012, 7, 25, 10, 50)],\n",
       " [131, 2012, 30, 3, datetime.datetime(2012, 7, 25, 10, 55)],\n",
       " [132, 2012, 30, 3, datetime.datetime(2012, 7, 25, 11, 0)],\n",
       " [133, 2012, 30, 3, datetime.datetime(2012, 7, 25, 11, 5)],\n",
       " [134, 2012, 30, 3, datetime.datetime(2012, 7, 25, 11, 10)],\n",
       " [135, 2012, 30, 3, datetime.datetime(2012, 7, 25, 11, 15)],\n",
       " [136, 2012, 30, 3, datetime.datetime(2012, 7, 25, 11, 20)],\n",
       " [137, 2012, 30, 3, datetime.datetime(2012, 7, 25, 11, 25)],\n",
       " [138, 2012, 30, 3, datetime.datetime(2012, 7, 25, 11, 30)],\n",
       " [139, 2012, 30, 3, datetime.datetime(2012, 7, 25, 11, 35)],\n",
       " [140, 2012, 30, 3, datetime.datetime(2012, 7, 25, 11, 40)],\n",
       " [141, 2012, 30, 3, datetime.datetime(2012, 7, 25, 11, 45)],\n",
       " [142, 2012, 30, 3, datetime.datetime(2012, 7, 25, 11, 50)],\n",
       " [143, 2012, 30, 3, datetime.datetime(2012, 7, 25, 11, 55)],\n",
       " [144, 2012, 30, 3, datetime.datetime(2012, 7, 25, 12, 0)],\n",
       " [145, 2012, 30, 3, datetime.datetime(2012, 7, 25, 12, 5)],\n",
       " [146, 2012, 30, 3, datetime.datetime(2012, 7, 25, 12, 10)],\n",
       " [147, 2012, 30, 3, datetime.datetime(2012, 7, 25, 12, 15)],\n",
       " [148, 2012, 30, 3, datetime.datetime(2012, 7, 25, 12, 20)],\n",
       " [149, 2012, 30, 3, datetime.datetime(2012, 7, 25, 12, 25)],\n",
       " [150, 2012, 30, 3, datetime.datetime(2012, 7, 25, 12, 30)],\n",
       " [151, 2012, 30, 3, datetime.datetime(2012, 7, 25, 12, 35)],\n",
       " [152, 2012, 30, 3, datetime.datetime(2012, 7, 25, 12, 40)],\n",
       " [153, 2012, 30, 3, datetime.datetime(2012, 7, 25, 12, 45)],\n",
       " [154, 2012, 30, 3, datetime.datetime(2012, 7, 25, 12, 50)],\n",
       " [155, 2012, 30, 3, datetime.datetime(2012, 7, 25, 12, 55)],\n",
       " [156, 2012, 30, 3, datetime.datetime(2012, 7, 25, 13, 0)],\n",
       " [157, 2012, 30, 3, datetime.datetime(2012, 7, 25, 13, 5)],\n",
       " [158, 2012, 30, 3, datetime.datetime(2012, 7, 25, 13, 10)],\n",
       " [159, 2012, 30, 3, datetime.datetime(2012, 7, 25, 13, 15)],\n",
       " [160, 2012, 30, 3, datetime.datetime(2012, 7, 25, 13, 20)],\n",
       " [161, 2012, 30, 3, datetime.datetime(2012, 7, 25, 13, 25)],\n",
       " [162, 2012, 30, 3, datetime.datetime(2012, 7, 25, 13, 30)],\n",
       " [163, 2012, 30, 3, datetime.datetime(2012, 7, 25, 13, 35)],\n",
       " [164, 2012, 30, 3, datetime.datetime(2012, 7, 25, 13, 40)],\n",
       " [165, 2012, 30, 3, datetime.datetime(2012, 7, 25, 13, 45)],\n",
       " [166, 2012, 30, 3, datetime.datetime(2012, 7, 25, 13, 50)],\n",
       " [167, 2012, 30, 3, datetime.datetime(2012, 7, 25, 13, 55)],\n",
       " [168, 2012, 30, 3, datetime.datetime(2012, 7, 25, 14, 0)],\n",
       " [169, 2012, 30, 3, datetime.datetime(2012, 7, 25, 14, 5)],\n",
       " [170, 2012, 30, 3, datetime.datetime(2012, 7, 25, 14, 10)],\n",
       " [171, 2012, 30, 3, datetime.datetime(2012, 7, 25, 14, 15)],\n",
       " [172, 2012, 30, 3, datetime.datetime(2012, 7, 25, 14, 20)],\n",
       " [173, 2012, 30, 3, datetime.datetime(2012, 7, 25, 14, 25)],\n",
       " [174, 2012, 30, 3, datetime.datetime(2012, 7, 25, 14, 30)],\n",
       " [175, 2012, 30, 3, datetime.datetime(2012, 7, 25, 14, 35)],\n",
       " [176, 2012, 30, 3, datetime.datetime(2012, 7, 25, 14, 40)],\n",
       " [177, 2012, 30, 3, datetime.datetime(2012, 7, 25, 14, 45)],\n",
       " [178, 2012, 30, 3, datetime.datetime(2012, 7, 25, 14, 50)],\n",
       " [179, 2012, 30, 3, datetime.datetime(2012, 7, 25, 14, 55)],\n",
       " [180, 2012, 30, 3, datetime.datetime(2012, 7, 25, 15, 0)],\n",
       " [181, 2012, 30, 3, datetime.datetime(2012, 7, 25, 15, 5)],\n",
       " [182, 2012, 30, 3, datetime.datetime(2012, 7, 25, 15, 10)],\n",
       " [183, 2012, 30, 3, datetime.datetime(2012, 7, 25, 15, 15)],\n",
       " [184, 2012, 30, 3, datetime.datetime(2012, 7, 25, 15, 20)],\n",
       " [185, 2012, 30, 3, datetime.datetime(2012, 7, 25, 15, 25)],\n",
       " [186, 2012, 30, 3, datetime.datetime(2012, 7, 25, 15, 30)],\n",
       " [187, 2012, 30, 3, datetime.datetime(2012, 7, 25, 15, 35)],\n",
       " [188, 2012, 30, 3, datetime.datetime(2012, 7, 25, 15, 40)],\n",
       " [189, 2012, 30, 3, datetime.datetime(2012, 7, 25, 15, 45)],\n",
       " [190, 2012, 30, 3, datetime.datetime(2012, 7, 25, 15, 50)],\n",
       " [191, 2012, 30, 3, datetime.datetime(2012, 7, 25, 15, 55)],\n",
       " [192, 2012, 30, 3, datetime.datetime(2012, 7, 25, 16, 0)],\n",
       " [193, 2012, 30, 3, datetime.datetime(2012, 7, 25, 16, 5)],\n",
       " [194, 2012, 30, 3, datetime.datetime(2012, 7, 25, 16, 10)],\n",
       " [195, 2012, 30, 3, datetime.datetime(2012, 7, 25, 16, 15)],\n",
       " [196, 2012, 30, 3, datetime.datetime(2012, 7, 25, 16, 20)],\n",
       " [197, 2012, 30, 3, datetime.datetime(2012, 7, 25, 16, 25)],\n",
       " [198, 2012, 30, 3, datetime.datetime(2012, 7, 25, 16, 30)],\n",
       " [199, 2012, 30, 3, datetime.datetime(2012, 7, 25, 16, 35)],\n",
       " [200, 2012, 30, 3, datetime.datetime(2012, 7, 25, 16, 40)],\n",
       " [201, 2012, 30, 3, datetime.datetime(2012, 7, 25, 16, 45)],\n",
       " [202, 2012, 30, 3, datetime.datetime(2012, 7, 25, 16, 50)],\n",
       " [203, 2012, 30, 3, datetime.datetime(2012, 7, 25, 16, 55)],\n",
       " [204, 2012, 30, 3, datetime.datetime(2012, 7, 25, 17, 0)],\n",
       " [205, 2012, 30, 3, datetime.datetime(2012, 7, 25, 17, 5)],\n",
       " [206, 2012, 30, 3, datetime.datetime(2012, 7, 25, 17, 10)],\n",
       " [207, 2012, 30, 3, datetime.datetime(2012, 7, 25, 17, 15)],\n",
       " [208, 2012, 30, 3, datetime.datetime(2012, 7, 25, 17, 20)],\n",
       " [209, 2012, 30, 3, datetime.datetime(2012, 7, 25, 17, 25)],\n",
       " [210, 2012, 30, 3, datetime.datetime(2012, 7, 25, 17, 30)],\n",
       " [211, 2012, 30, 3, datetime.datetime(2012, 7, 25, 17, 35)],\n",
       " [212, 2012, 30, 3, datetime.datetime(2012, 7, 25, 17, 40)],\n",
       " [213, 2012, 30, 3, datetime.datetime(2012, 7, 25, 17, 45)],\n",
       " [214, 2012, 30, 3, datetime.datetime(2012, 7, 25, 17, 50)],\n",
       " [215, 2012, 30, 3, datetime.datetime(2012, 7, 25, 17, 55)],\n",
       " [216, 2012, 30, 3, datetime.datetime(2012, 7, 25, 18, 0)],\n",
       " [217, 2012, 30, 3, datetime.datetime(2012, 7, 25, 18, 5)],\n",
       " [218, 2012, 30, 3, datetime.datetime(2012, 7, 25, 18, 10)],\n",
       " [219, 2012, 30, 3, datetime.datetime(2012, 7, 25, 18, 15)],\n",
       " [220, 2012, 30, 3, datetime.datetime(2012, 7, 25, 18, 20)],\n",
       " [221, 2012, 30, 3, datetime.datetime(2012, 7, 25, 18, 25)],\n",
       " [222, 2012, 30, 3, datetime.datetime(2012, 7, 25, 18, 30)],\n",
       " [223, 2012, 30, 3, datetime.datetime(2012, 7, 25, 18, 35)],\n",
       " [224, 2012, 30, 3, datetime.datetime(2012, 7, 25, 18, 40)],\n",
       " [225, 2012, 30, 3, datetime.datetime(2012, 7, 25, 18, 45)],\n",
       " [226, 2012, 30, 3, datetime.datetime(2012, 7, 25, 18, 50)],\n",
       " [227, 2012, 30, 3, datetime.datetime(2012, 7, 25, 18, 55)],\n",
       " [228, 2012, 30, 3, datetime.datetime(2012, 7, 25, 19, 0)],\n",
       " [229, 2012, 30, 3, datetime.datetime(2012, 7, 25, 19, 5)],\n",
       " [230, 2012, 30, 3, datetime.datetime(2012, 7, 25, 19, 10)],\n",
       " [231, 2012, 30, 3, datetime.datetime(2012, 7, 25, 19, 15)],\n",
       " [232, 2012, 30, 3, datetime.datetime(2012, 7, 25, 19, 20)],\n",
       " [233, 2012, 30, 3, datetime.datetime(2012, 7, 25, 19, 25)],\n",
       " [234, 2012, 30, 3, datetime.datetime(2012, 7, 25, 19, 30)],\n",
       " [235, 2012, 30, 3, datetime.datetime(2012, 7, 25, 19, 35)],\n",
       " [236, 2012, 30, 3, datetime.datetime(2012, 7, 25, 19, 40)],\n",
       " [237, 2012, 30, 3, datetime.datetime(2012, 7, 25, 19, 45)],\n",
       " [238, 2012, 30, 3, datetime.datetime(2012, 7, 25, 19, 50)],\n",
       " [239, 2012, 30, 3, datetime.datetime(2012, 7, 25, 19, 55)],\n",
       " [240, 2012, 30, 3, datetime.datetime(2012, 7, 25, 20, 0)],\n",
       " [241, 2012, 30, 3, datetime.datetime(2012, 7, 25, 20, 5)],\n",
       " [242, 2012, 30, 3, datetime.datetime(2012, 7, 25, 20, 10)],\n",
       " [243, 2012, 30, 3, datetime.datetime(2012, 7, 25, 20, 15)],\n",
       " [244, 2012, 30, 3, datetime.datetime(2012, 7, 25, 20, 20)],\n",
       " [245, 2012, 30, 3, datetime.datetime(2012, 7, 25, 20, 25)],\n",
       " [246, 2012, 30, 3, datetime.datetime(2012, 7, 25, 20, 30)],\n",
       " [247, 2012, 30, 3, datetime.datetime(2012, 7, 25, 20, 35)],\n",
       " [248, 2012, 30, 3, datetime.datetime(2012, 7, 25, 20, 40)],\n",
       " [249, 2012, 30, 3, datetime.datetime(2012, 7, 25, 20, 45)],\n",
       " [250, 2012, 30, 3, datetime.datetime(2012, 7, 25, 20, 50)],\n",
       " [251, 2012, 30, 3, datetime.datetime(2012, 7, 25, 20, 55)],\n",
       " [252, 2012, 30, 3, datetime.datetime(2012, 7, 25, 21, 0)],\n",
       " [253, 2012, 30, 3, datetime.datetime(2012, 7, 25, 21, 5)],\n",
       " [254, 2012, 30, 3, datetime.datetime(2012, 7, 25, 21, 10)],\n",
       " [255, 2012, 30, 3, datetime.datetime(2012, 7, 25, 21, 15)],\n",
       " [256, 2012, 30, 3, datetime.datetime(2012, 7, 25, 21, 20)],\n",
       " [257, 2012, 30, 3, datetime.datetime(2012, 7, 25, 21, 25)],\n",
       " [258, 2012, 30, 3, datetime.datetime(2012, 7, 25, 21, 30)],\n",
       " [259, 2012, 30, 3, datetime.datetime(2012, 7, 25, 21, 35)],\n",
       " [260, 2012, 30, 3, datetime.datetime(2012, 7, 25, 21, 40)],\n",
       " [261, 2012, 30, 3, datetime.datetime(2012, 7, 25, 21, 45)],\n",
       " [262, 2012, 30, 3, datetime.datetime(2012, 7, 25, 21, 50)],\n",
       " [263, 2012, 30, 3, datetime.datetime(2012, 7, 25, 21, 55)],\n",
       " [264, 2012, 30, 3, datetime.datetime(2012, 7, 25, 22, 0)],\n",
       " [265, 2012, 30, 3, datetime.datetime(2012, 7, 25, 22, 5)],\n",
       " [266, 2012, 30, 3, datetime.datetime(2012, 7, 25, 22, 10)],\n",
       " [267, 2012, 30, 3, datetime.datetime(2012, 7, 25, 22, 15)],\n",
       " [268, 2012, 30, 3, datetime.datetime(2012, 7, 25, 22, 20)],\n",
       " [269, 2012, 30, 3, datetime.datetime(2012, 7, 25, 22, 25)],\n",
       " [270, 2012, 30, 3, datetime.datetime(2012, 7, 25, 22, 30)],\n",
       " [271, 2012, 30, 3, datetime.datetime(2012, 7, 25, 22, 35)],\n",
       " [272, 2012, 30, 3, datetime.datetime(2012, 7, 25, 22, 40)],\n",
       " [273, 2012, 30, 3, datetime.datetime(2012, 7, 25, 22, 45)],\n",
       " [274, 2012, 30, 3, datetime.datetime(2012, 7, 25, 22, 50)],\n",
       " [275, 2012, 30, 3, datetime.datetime(2012, 7, 25, 22, 55)],\n",
       " [276, 2012, 30, 3, datetime.datetime(2012, 7, 25, 23, 0)],\n",
       " [277, 2012, 30, 3, datetime.datetime(2012, 7, 25, 23, 5)],\n",
       " [278, 2012, 30, 3, datetime.datetime(2012, 7, 25, 23, 10)],\n",
       " [279, 2012, 30, 3, datetime.datetime(2012, 7, 25, 23, 15)],\n",
       " [280, 2012, 30, 3, datetime.datetime(2012, 7, 25, 23, 20)],\n",
       " [281, 2012, 30, 3, datetime.datetime(2012, 7, 25, 23, 25)],\n",
       " [282, 2012, 30, 3, datetime.datetime(2012, 7, 25, 23, 30)],\n",
       " [283, 2012, 30, 3, datetime.datetime(2012, 7, 25, 23, 35)],\n",
       " [284, 2012, 30, 3, datetime.datetime(2012, 7, 25, 23, 40)],\n",
       " [285, 2012, 30, 3, datetime.datetime(2012, 7, 25, 23, 45)],\n",
       " [286, 2012, 30, 3, datetime.datetime(2012, 7, 25, 23, 50)],\n",
       " [287, 2012, 30, 3, datetime.datetime(2012, 7, 25, 23, 55)]]"
      ]
     },
     "execution_count": 41,
     "metadata": {},
     "output_type": "execute_result"
    }
   ],
   "source": [
    "temporal_index"
   ]
  },
  {
   "cell_type": "code",
   "execution_count": 9,
   "metadata": {},
   "outputs": [],
   "source": [
    "def convert_raw_coordinates_to_spatial_index(EXPERIMENT_PARAMETERS, spatial_index, x, y):\n",
    "    x_index = int((x - EXPERIMENT_PARAMETERS[\"AOI\"][0]) // spatial_index[0])\n",
    "    y_index = int((y - EXPERIMENT_PARAMETERS[\"AOI\"][1]) // spatial_index[1])\n",
    "    # print(x_index)\n",
    "    # print(y_index)\n",
    "    spatial_index_number = x_index + (spatial_index[3] * y_index)\n",
    "    return spatial_index_number"
   ]
  },
  {
   "cell_type": "code",
   "execution_count": 20,
   "metadata": {},
   "outputs": [],
   "source": [
    "for name, group in grouped:\n",
    "    traj = []\n",
    "    if num_user == 0:\n",
    "        break\n",
    "    else:\n",
    "        # print(name)\n",
    "        # print(group)\n",
    "        # For each user and each temporal index, find a location and mode to make regualized file\n",
    "        for t_index in temporal_index:\n",
    "            target_time = t_index[4]\n",
    "            target_row = group.loc[(group['time_start'] <= target_time) & (group['time_end'] >= target_time)]\n",
    "            if (len(target_row) > 0):\n",
    "                x = target_row.at['x']\n",
    "                y = target_row.at['y']\n",
    "                mode = target_row.at['mode']\n",
    "                s_index = convert_raw_coordinates_to_spatial_index(EXPERIMENT_PARAMETERS, spatial_index, x, y)\n",
    "                traj.append([name, t_index[0], x, y, mode, s_index])\n",
    "        df_user_regularized = pandas.DataFrame.from_records(traj, columns=headers)\n",
    "#         print(df_user_regularized)\n",
    "        df_users_regularized = df_users_regularized.append(df_user_regularized)\n",
    "        num_user -= 1\n",
    "# print(df_users_regularized)"
   ]
  },
  {
   "cell_type": "code",
   "execution_count": 33,
   "metadata": {},
   "outputs": [
    {
     "data": {
      "text/plain": [
       "array([[  35.83439243,  138.97597443],\n",
       "       [  35.82211421,  139.0025391 ]])"
      ]
     },
     "execution_count": 33,
     "metadata": {},
     "output_type": "execute_result"
    }
   ],
   "source": []
  },
  {
   "cell_type": "code",
   "execution_count": 34,
   "metadata": {},
   "outputs": [
    {
     "data": {
      "text/plain": [
       "array([[-0.01227822,  0.02656467]])"
      ]
     },
     "execution_count": 34,
     "metadata": {},
     "output_type": "execute_result"
    }
   ],
   "source": []
  },
  {
   "cell_type": "code",
   "execution_count": 20,
   "metadata": {},
   "outputs": [
    {
     "data": {
      "text/plain": [
       "array([-0.01227822,  0.02656467])"
      ]
     },
     "execution_count": 20,
     "metadata": {},
     "output_type": "execute_result"
    }
   ],
   "source": [
    "means = numpy.mean(diffs, axis=0)\n",
    "means"
   ]
  },
  {
   "cell_type": "code",
   "execution_count": 26,
   "metadata": {},
   "outputs": [
    {
     "data": {
      "text/plain": [
       "array([  35.82211421,  139.0025391 ])"
      ]
     },
     "execution_count": 26,
     "metadata": {},
     "output_type": "execute_result"
    }
   ],
   "source": [
    "last = X_test[0, -1, -2:]\n",
    "last"
   ]
  },
  {
   "cell_type": "code",
   "execution_count": 35,
   "metadata": {},
   "outputs": [
    {
     "data": {
      "text/plain": [
       "array([[  35.80983599,  139.02910377]])"
      ]
     },
     "execution_count": 35,
     "metadata": {},
     "output_type": "execute_result"
    }
   ],
   "source": [
    "numpy.add(last_diff, last)"
   ]
  },
  {
   "cell_type": "code",
   "execution_count": 29,
   "metadata": {},
   "outputs": [
    {
     "data": {
      "text/plain": [
       "array([  35.80983599,  139.02910377])"
      ]
     },
     "execution_count": 29,
     "metadata": {},
     "output_type": "execute_result"
    }
   ],
   "source": [
    "y_test[0]"
   ]
  },
  {
   "cell_type": "code",
   "execution_count": 40,
   "metadata": {},
   "outputs": [
    {
     "data": {
      "text/plain": [
       "array([[[  35.83439243,  138.97597443],\n",
       "        [  35.82211421,  139.0025391 ]],\n",
       "\n",
       "       [[  35.64696784,  139.53012587],\n",
       "        [  35.64826051,  139.53204177]],\n",
       "\n",
       "       [[  35.56753905,  139.7293991 ],\n",
       "        [  35.5746431 ,  139.73400672]],\n",
       "\n",
       "       ..., \n",
       "       [[  35.58541198,  139.7480611 ],\n",
       "        [  35.58525307,  139.74703865]],\n",
       "\n",
       "       [[  35.62086167,  139.71916685],\n",
       "        [  35.62211741,  139.7202787 ]],\n",
       "\n",
       "       [[  35.74634982,  139.72499071],\n",
       "        [  35.74519885,  139.72670361]]])"
      ]
     },
     "execution_count": 40,
     "metadata": {},
     "output_type": "execute_result"
    }
   ],
   "source": [
    "x_two_step = X_test[:, -2:, -2:]\n",
    "x_two_step"
   ]
  },
  {
   "cell_type": "code",
   "execution_count": 42,
   "metadata": {},
   "outputs": [
    {
     "data": {
      "text/plain": [
       "array([[[-0.01227822,  0.02656467]],\n",
       "\n",
       "       [[ 0.00129267,  0.0019159 ]],\n",
       "\n",
       "       [[ 0.00710406,  0.00460762]],\n",
       "\n",
       "       ..., \n",
       "       [[-0.00015891, -0.00102245]],\n",
       "\n",
       "       [[ 0.00125574,  0.00111185]],\n",
       "\n",
       "       [[-0.00115097,  0.00171289]]])"
      ]
     },
     "execution_count": 42,
     "metadata": {},
     "output_type": "execute_result"
    }
   ],
   "source": [
    "last_diff = numpy.diff(x_two_step, axis=1)\n",
    "last_diff"
   ]
  },
  {
   "cell_type": "code",
   "execution_count": 48,
   "metadata": {},
   "outputs": [
    {
     "data": {
      "text/plain": [
       "(1205, 1, 2)"
      ]
     },
     "execution_count": 48,
     "metadata": {},
     "output_type": "execute_result"
    }
   ],
   "source": [
    "last = X_test[:, -1:, -2:]\n",
    "# last\n",
    "prediction = numpy.add(last_diff, last)\n",
    "prediction.shape"
   ]
  },
  {
   "cell_type": "code",
   "execution_count": 51,
   "metadata": {},
   "outputs": [
    {
     "data": {
      "text/plain": [
       "array([[  35.80983599,  139.02910377],\n",
       "       [  35.64955318,  139.53395767],\n",
       "       [  35.58174716,  139.73861433],\n",
       "       ..., \n",
       "       [  35.58509415,  139.74601619],\n",
       "       [  35.62337314,  139.72139055],\n",
       "       [  35.74404788,  139.7284165 ]])"
      ]
     },
     "execution_count": 51,
     "metadata": {},
     "output_type": "execute_result"
    }
   ],
   "source": [
    "prediction_shape = prediction.shape\n",
    "prediction =prediction.reshape(prediction_shape[0], prediction_shape[2])\n",
    "prediction"
   ]
  },
  {
   "cell_type": "code",
   "execution_count": 47,
   "metadata": {},
   "outputs": [
    {
     "data": {
      "text/plain": [
       "array([[  35.80983599,  139.02910377],\n",
       "       [  35.64954332,  139.53396828],\n",
       "       [  35.58246042,  139.73640138],\n",
       "       ..., \n",
       "       [  35.58496666,  139.74602346],\n",
       "       [  35.62358498,  139.72103667],\n",
       "       [  35.74384336,  139.72816329]])"
      ]
     },
     "execution_count": 47,
     "metadata": {},
     "output_type": "execute_result"
    }
   ],
   "source": [
    "y_test"
   ]
  }
 ],
 "metadata": {
  "kernelspec": {
   "display_name": "Python 3",
   "language": "python",
   "name": "python3"
  },
  "language_info": {
   "codemirror_mode": {
    "name": "ipython",
    "version": 3
   },
   "file_extension": ".py",
   "mimetype": "text/x-python",
   "name": "python",
   "nbconvert_exporter": "python",
   "pygments_lexer": "ipython3",
   "version": "3.6.2"
  }
 },
 "nbformat": 4,
 "nbformat_minor": 1
}
