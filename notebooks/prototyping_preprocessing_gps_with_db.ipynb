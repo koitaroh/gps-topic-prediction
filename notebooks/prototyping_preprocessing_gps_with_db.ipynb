{
 "cells": [
  {
   "cell_type": "code",
   "execution_count": 17,
   "metadata": {
    "collapsed": true
   },
   "outputs": [],
   "source": [
    "import requests\n",
    "import json\n",
    "import csv\n",
    "import multiprocessing as mp\n",
    "from itertools import repeat\n",
    "import os\n",
    "import time\n",
    "import random\n",
    "import gensim\n",
    "from gensim.models.doc2vec import Doc2Vec, TaggedDocument\n",
    "import folium\n",
    "import sqlalchemy\n",
    "import tables\n",
    "import pickle\n",
    "from pathlib import Path\n",
    "from collections import OrderedDict\n",
    "import numpy as np\n",
    "import pandas as pd\n",
    "import shapely\n",
    "import geopandas as gpd\n",
    "from datetime import datetime, timedelta, time, date\n",
    "from geopy.distance import vincenty, great_circle\n",
    "from sqlalchemy.orm import sessionmaker #Run pip install sqlalchemy\n",
    "from sklearn.cluster import DBSCAN\n",
    "from shapely.geometry import Point\n",
    "from sklearn.preprocessing import MinMaxScaler, StandardScaler, LabelBinarizer, LabelEncoder\n",
    "\n",
    "\n",
    "\n",
    "%matplotlib inline\n",
    "import matplotlib.pyplot as plt\n",
    "import seaborn as sns\n",
    "sns.set(style=\"white\", palette=\"muted\", color_codes=True)\n",
    "\n",
    "# os.chdir('src')\n",
    "\n",
    "import settings as s\n",
    "import utility_io\n",
    "import utility_database\n",
    "import prediction_gps_grid_mode_topic\n",
    "np.random.seed(1)\n",
    "random.seed(1)\n",
    "\n",
    "pd.set_option('display.width',200)\n",
    "\n"
   ]
  },
  {
   "cell_type": "code",
   "execution_count": null,
   "metadata": {},
   "outputs": [],
   "source": [
    "engine, conn, metadata = utility_database.establish_db_connection_postgresql_geotweet_ssh()"
   ]
  },
  {
   "cell_type": "code",
   "execution_count": 6,
   "metadata": {},
   "outputs": [],
   "source": [
    "# Check model file and topic feature file\n",
    "\n",
    "EXPERIMENT_PARAMETERS = s.EXPERIMENT_PARAMETERS\n",
    "LSI_MODEL_FILE = s.LSI_MODEL_FILE\n",
    "LDA_MODEL_FILE = s.LDA_MODEL_FILE\n",
    "DOC2VEC_MODEL_FILE = s.DOC2VEC_MODEL_FILE\n",
    "STOPLIST_FILE = s.STOPLIST_FILE\n",
    "DICT_FILE = s.DICT_FILE\n",
    "MM_CORPUS_FILE = s.MM_CORPUS_FILE\n",
    "TFIDF_FILE = s.TFIDF_FILE\n",
    "LSI_TOPIC_FILE = s.LSI_TOPIC_FILE\n",
    "LDA_TOPIC_FILE = s.LDA_TOPIC_FILE\n",
    "DOC2VEC_TOPIC_FILE = s.DOC2VEC_TOPIC_FILE\n",
    "\n",
    "dictionary = gensim.corpora.Dictionary.load(DICT_FILE)\n",
    "lsi = gensim.models.LsiModel.load(LSI_MODEL_FILE)\n",
    "lda = gensim.models.LdaModel.load(LDA_MODEL_FILE)\n",
    "doc2vec = Doc2Vec.load(DOC2VEC_MODEL_FILE)\n",
    "tfidf = gensim.models.TfidfModel.load(TFIDF_FILE)\n",
    "\n",
    "FIGURE_DIR = s.FIGURE_DIR\n",
    "\n",
    "X_GRID_FILE = s.X_GRID_FILE\n",
    "Y_GRID_FILE = s.Y_GRID_FILE\n",
    "X_MODE_FILE = s.X_MODE_FILE\n",
    "Y_MODE_FILE = s.Y_MODE_FILE\n",
    "X_TOPIC_FILE = s.X_TOPIC_FILE\n",
    "Y_TOPIC_FILE = s.Y_TOPIC_FILE\n",
    "\n",
    "LE_GRID_CLASSES_FILE = s.LE_GRID_CLASSES_FILE\n",
    "LB_MODE_CLASSES_FILE = s.LB_MODE_CLASSES_FILE\n",
    "X_FILE = s.X_FILE\n",
    "Y_FILE = s.Y_FILE\n",
    "Y_FILE_PREDICTED_LSTM = s.Y_FILE_PREDICTED_LSTM\n",
    "Y_FILE_PREDICTED_VELOCITY = s.Y_FILE_PREDICTED_VELOCITY\n",
    "MODEL_FILE_LSTM_GRID = s.MODEL_FILE_LSTM_GRID\n",
    "MODEL_WEIGHT_FILE_LSTM_GRID = s.MODEL_WEIGHT_FILE_LSTM_GRID\n",
    "GEOJSON_FILE_OBSERVATION_GRID = s.GEOJSON_FILE_OBSERVATION_GRID\n",
    "GEOJSON_FILE_TRUE_GRID = s.GEOJSON_FILE_TRUE_GRID\n",
    "GEOJSON_FILE_PREDICTED_LSTM_GRID = s.GEOJSON_FILE_PREDICTED_LSTM_GRID\n",
    "\n",
    "le_grid = LabelEncoder()\n",
    "le_grid.classes_ = np.load(LE_GRID_CLASSES_FILE)\n",
    "lb_mode = LabelBinarizer()\n",
    "lb_mode.classes_ = np.load(LB_MODE_CLASSES_FILE)\n"
   ]
  },
  {
   "cell_type": "code",
   "execution_count": 18,
   "metadata": {},
   "outputs": [
    {
     "name": "stderr",
     "output_type": "stream",
     "text": [
      "/usr/local/lib/python3.6/site-packages/sklearn/preprocessing/label.py:252: DataConversionWarning: A column-vector y was passed when a 1d array was expected. Please change the shape of y to (n_samples, ), for example using ravel().\n  y = column_or_1d(y, warn=True)\n"
     ]
    }
   ],
   "source": [
    ""
   ]
  }
 ],
 "metadata": {
  "kernelspec": {
   "display_name": "Python 2",
   "language": "python",
   "name": "python2"
  },
  "language_info": {
   "codemirror_mode": {
    "name": "ipython",
    "version": 2
   },
   "file_extension": ".py",
   "mimetype": "text/x-python",
   "name": "python",
   "nbconvert_exporter": "python",
   "pygments_lexer": "ipython2",
   "version": "2.7.6"
  }
 },
 "nbformat": 4,
 "nbformat_minor": 0
}
